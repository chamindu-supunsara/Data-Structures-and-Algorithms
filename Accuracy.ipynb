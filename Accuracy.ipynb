{
  "nbformat": 4,
  "nbformat_minor": 0,
  "metadata": {
    "colab": {
      "provenance": [],
      "authorship_tag": "ABX9TyNnWaKYulK2JQAWOxjpOE9N",
      "include_colab_link": true
    },
    "kernelspec": {
      "name": "python3",
      "display_name": "Python 3"
    },
    "language_info": {
      "name": "python"
    }
  },
  "cells": [
    {
      "cell_type": "markdown",
      "metadata": {
        "id": "view-in-github",
        "colab_type": "text"
      },
      "source": [
        "<a href=\"https://colab.research.google.com/github/chamindu-supunsara/Data-Structures-and-Algorithms/blob/main/Accuracy.ipynb\" target=\"_parent\"><img src=\"https://colab.research.google.com/assets/colab-badge.svg\" alt=\"Open In Colab\"/></a>"
      ]
    },
    {
      "cell_type": "code",
      "execution_count": 43,
      "metadata": {
        "colab": {
          "base_uri": "https://localhost:8080/"
        },
        "id": "ndYowB65Xs8S",
        "outputId": "49dc7941-b080-4ba1-eece-5314f74064ef"
      },
      "outputs": [
        {
          "output_type": "stream",
          "name": "stdout",
          "text": [
            "Mounted at /content/drive\n"
          ]
        }
      ],
      "source": [
        "from google.colab import drive\n",
        "drive.mount('/content/drive',force_remount=True)"
      ]
    },
    {
      "cell_type": "code",
      "source": [
        "import pandas as pd\n",
        "import numpy as np\n",
        "from sklearn.model_selection import train_test_split"
      ],
      "metadata": {
        "id": "zcVMkx-XYaE2"
      },
      "execution_count": 44,
      "outputs": []
    },
    {
      "cell_type": "code",
      "source": [
        "cols = ['preg', 'plas', 'pres', 'skin', 'test', 'mass', 'pedi', 'age', 'class']\n",
        "df = pd.read_csv('/content/drive/MyDrive/Batch 24/pima-indians-diabetes.csv', names=cols)"
      ],
      "metadata": {
        "id": "n5zRbZPeYj_R"
      },
      "execution_count": 45,
      "outputs": []
    },
    {
      "cell_type": "code",
      "source": [
        "df"
      ],
      "metadata": {
        "id": "5Ek_jBdUa0KH"
      },
      "execution_count": null,
      "outputs": []
    },
    {
      "cell_type": "code",
      "source": [
        "features = df.drop('class', axis=1)\n",
        "labels = df['class']"
      ],
      "metadata": {
        "id": "NhJiPclIa-ii"
      },
      "execution_count": 47,
      "outputs": []
    },
    {
      "cell_type": "code",
      "source": [
        "labels"
      ],
      "metadata": {
        "id": "3jofwvnrhTId"
      },
      "execution_count": null,
      "outputs": []
    },
    {
      "cell_type": "code",
      "source": [
        "from pandas.core.common import random_state\n",
        "x_train, x_test, y_train, y_test = train_test_split(features, labels, test_size=0.2, random_state=1241)"
      ],
      "metadata": {
        "id": "E-gchiy4es-B"
      },
      "execution_count": 49,
      "outputs": []
    },
    {
      "cell_type": "code",
      "source": [
        "from keras.models import Sequential\n",
        "from keras.layers import Dense\n",
        "import keras"
      ],
      "metadata": {
        "id": "hmORRtheh-eG"
      },
      "execution_count": 50,
      "outputs": []
    },
    {
      "cell_type": "code",
      "source": [
        "model = Sequential()\n",
        "model.add(Dense(32, input_dim=8, activation='relu'))\n",
        "model.add(Dense(128, activation='relu'))\n",
        "model.add(Dense(128, activation='relu'))\n",
        "model.add(Dense(1,activation='sigmoid'))"
      ],
      "metadata": {
        "id": "HGPPeC0ngIaK"
      },
      "execution_count": 51,
      "outputs": []
    },
    {
      "cell_type": "code",
      "source": [
        "model.summary()"
      ],
      "metadata": {
        "id": "7zG2lJfyxMkF"
      },
      "execution_count": null,
      "outputs": []
    },
    {
      "cell_type": "code",
      "source": [
        "from keras.utils.vis_utils import plot_model\n",
        "plot_model(model, show_shapes=True, show_layer_names=True)"
      ],
      "metadata": {
        "id": "FcmrXQ_Diuza"
      },
      "execution_count": null,
      "outputs": []
    },
    {
      "cell_type": "code",
      "source": [
        "from keras.callbacks import ModelCheckpoint\n",
        "checkpit_path = '/content/drive/MyDrive/Batch 24/Checkpoint/{epoch:02d}.h5'\n",
        "model_checkpoint = ModelCheckpoint(checkpit_path, monitor='val_acc', verbose=0, save_best_only=False, mode='max', save_freq=1, save_only_weights=False)"
      ],
      "metadata": {
        "id": "TpLRsMiywXCv"
      },
      "execution_count": 68,
      "outputs": []
    },
    {
      "cell_type": "code",
      "source": [
        "model.compile(loss='binary_crossentropy', optimizer='adam', metrics=['acc'])"
      ],
      "metadata": {
        "id": "PJaiTp4Ujl6e"
      },
      "execution_count": 53,
      "outputs": []
    },
    {
      "cell_type": "code",
      "source": [
        "history = model.fit(x_train, y_train,\n",
        "          epochs=100, \n",
        "          callbacks=[model_checkpoint],\n",
        "          validation_data=(x_test, y_test), \n",
        "          batch_size=100)"
      ],
      "metadata": {
        "colab": {
          "base_uri": "https://localhost:8080/"
        },
        "id": "lHmWbnLPkQHf",
        "outputId": "e1eee650-3b3f-45ea-b8ab-cfcf73a28d26"
      },
      "execution_count": 69,
      "outputs": [
        {
          "output_type": "stream",
          "name": "stdout",
          "text": [
            "Epoch 1/100\n",
            "7/7 [==============================] - 0s 61ms/step - loss: 0.2440 - acc: 0.8974 - val_loss: 0.9661 - val_acc: 0.6883\n",
            "Epoch 2/100\n",
            "7/7 [==============================] - 0s 56ms/step - loss: 0.2356 - acc: 0.9072 - val_loss: 0.9938 - val_acc: 0.7078\n",
            "Epoch 3/100\n",
            "7/7 [==============================] - 0s 55ms/step - loss: 0.2346 - acc: 0.9039 - val_loss: 1.0410 - val_acc: 0.6883\n",
            "Epoch 4/100\n",
            "7/7 [==============================] - 0s 59ms/step - loss: 0.2391 - acc: 0.8925 - val_loss: 0.9848 - val_acc: 0.7143\n",
            "Epoch 5/100\n",
            "7/7 [==============================] - 0s 53ms/step - loss: 0.2522 - acc: 0.8909 - val_loss: 1.0722 - val_acc: 0.7143\n",
            "Epoch 6/100\n",
            "7/7 [==============================] - 0s 56ms/step - loss: 0.2649 - acc: 0.8860 - val_loss: 1.1979 - val_acc: 0.6818\n",
            "Epoch 7/100\n",
            "7/7 [==============================] - 0s 56ms/step - loss: 0.2618 - acc: 0.8730 - val_loss: 0.9760 - val_acc: 0.7338\n",
            "Epoch 8/100\n",
            "7/7 [==============================] - 0s 54ms/step - loss: 0.2325 - acc: 0.8893 - val_loss: 1.0137 - val_acc: 0.7013\n",
            "Epoch 9/100\n",
            "7/7 [==============================] - 0s 49ms/step - loss: 0.2474 - acc: 0.8860 - val_loss: 1.0312 - val_acc: 0.7013\n",
            "Epoch 10/100\n",
            "7/7 [==============================] - 0s 57ms/step - loss: 0.2633 - acc: 0.8909 - val_loss: 1.0772 - val_acc: 0.6883\n",
            "Epoch 11/100\n",
            "7/7 [==============================] - 0s 47ms/step - loss: 0.2821 - acc: 0.8762 - val_loss: 1.1101 - val_acc: 0.7013\n",
            "Epoch 12/100\n",
            "7/7 [==============================] - 0s 51ms/step - loss: 0.3288 - acc: 0.8469 - val_loss: 1.0663 - val_acc: 0.6753\n",
            "Epoch 13/100\n",
            "7/7 [==============================] - 0s 59ms/step - loss: 0.3117 - acc: 0.8534 - val_loss: 1.0890 - val_acc: 0.6623\n",
            "Epoch 14/100\n",
            "7/7 [==============================] - 0s 53ms/step - loss: 0.2972 - acc: 0.8648 - val_loss: 1.0342 - val_acc: 0.7208\n",
            "Epoch 15/100\n",
            "7/7 [==============================] - 0s 52ms/step - loss: 0.2282 - acc: 0.9055 - val_loss: 1.0558 - val_acc: 0.7078\n",
            "Epoch 16/100\n",
            "7/7 [==============================] - 0s 58ms/step - loss: 0.2461 - acc: 0.8827 - val_loss: 1.0359 - val_acc: 0.7208\n",
            "Epoch 17/100\n",
            "7/7 [==============================] - 0s 52ms/step - loss: 0.2200 - acc: 0.9007 - val_loss: 1.0252 - val_acc: 0.7273\n",
            "Epoch 18/100\n",
            "7/7 [==============================] - 0s 51ms/step - loss: 0.2277 - acc: 0.9137 - val_loss: 1.0625 - val_acc: 0.6818\n",
            "Epoch 19/100\n",
            "7/7 [==============================] - 0s 52ms/step - loss: 0.2281 - acc: 0.9153 - val_loss: 0.9928 - val_acc: 0.7013\n",
            "Epoch 20/100\n",
            "7/7 [==============================] - 0s 51ms/step - loss: 0.2446 - acc: 0.8844 - val_loss: 1.0521 - val_acc: 0.7013\n",
            "Epoch 21/100\n",
            "7/7 [==============================] - 0s 59ms/step - loss: 0.2396 - acc: 0.8925 - val_loss: 1.0295 - val_acc: 0.6818\n",
            "Epoch 22/100\n",
            "7/7 [==============================] - 0s 50ms/step - loss: 0.2354 - acc: 0.8925 - val_loss: 1.0599 - val_acc: 0.7273\n",
            "Epoch 23/100\n",
            "7/7 [==============================] - 0s 50ms/step - loss: 0.2229 - acc: 0.9072 - val_loss: 1.0406 - val_acc: 0.7078\n",
            "Epoch 24/100\n",
            "7/7 [==============================] - 0s 57ms/step - loss: 0.2152 - acc: 0.9088 - val_loss: 1.0164 - val_acc: 0.7143\n",
            "Epoch 25/100\n",
            "7/7 [==============================] - 0s 49ms/step - loss: 0.2217 - acc: 0.9121 - val_loss: 1.0921 - val_acc: 0.6818\n",
            "Epoch 26/100\n",
            "7/7 [==============================] - 0s 55ms/step - loss: 0.2337 - acc: 0.8974 - val_loss: 1.0960 - val_acc: 0.6818\n",
            "Epoch 27/100\n",
            "7/7 [==============================] - 0s 60ms/step - loss: 0.2641 - acc: 0.8746 - val_loss: 1.0730 - val_acc: 0.7013\n",
            "Epoch 28/100\n",
            "7/7 [==============================] - 0s 50ms/step - loss: 0.2255 - acc: 0.9055 - val_loss: 1.0676 - val_acc: 0.7338\n",
            "Epoch 29/100\n",
            "7/7 [==============================] - 0s 55ms/step - loss: 0.2083 - acc: 0.9169 - val_loss: 1.0091 - val_acc: 0.7143\n",
            "Epoch 30/100\n",
            "7/7 [==============================] - 0s 52ms/step - loss: 0.2102 - acc: 0.9218 - val_loss: 1.0214 - val_acc: 0.7013\n",
            "Epoch 31/100\n",
            "7/7 [==============================] - 0s 55ms/step - loss: 0.2389 - acc: 0.9088 - val_loss: 1.0811 - val_acc: 0.7143\n",
            "Epoch 32/100\n",
            "7/7 [==============================] - 0s 57ms/step - loss: 0.2268 - acc: 0.8990 - val_loss: 1.0969 - val_acc: 0.6948\n",
            "Epoch 33/100\n",
            "7/7 [==============================] - 0s 51ms/step - loss: 0.2862 - acc: 0.8518 - val_loss: 1.1169 - val_acc: 0.7143\n",
            "Epoch 34/100\n",
            "7/7 [==============================] - 0s 54ms/step - loss: 0.2506 - acc: 0.8974 - val_loss: 1.0610 - val_acc: 0.7013\n",
            "Epoch 35/100\n",
            "7/7 [==============================] - 0s 56ms/step - loss: 0.2434 - acc: 0.8958 - val_loss: 0.9891 - val_acc: 0.7078\n",
            "Epoch 36/100\n",
            "7/7 [==============================] - 0s 57ms/step - loss: 0.2460 - acc: 0.8958 - val_loss: 1.0290 - val_acc: 0.7273\n",
            "Epoch 37/100\n",
            "7/7 [==============================] - 0s 49ms/step - loss: 0.2651 - acc: 0.8958 - val_loss: 1.2386 - val_acc: 0.7013\n",
            "Epoch 38/100\n",
            "7/7 [==============================] - 0s 65ms/step - loss: 0.2432 - acc: 0.8762 - val_loss: 1.0715 - val_acc: 0.6948\n",
            "Epoch 39/100\n",
            "7/7 [==============================] - 0s 51ms/step - loss: 0.2477 - acc: 0.8941 - val_loss: 1.1033 - val_acc: 0.7078\n",
            "Epoch 40/100\n",
            "7/7 [==============================] - 0s 54ms/step - loss: 0.2240 - acc: 0.9007 - val_loss: 1.1052 - val_acc: 0.6883\n",
            "Epoch 41/100\n",
            "7/7 [==============================] - 0s 51ms/step - loss: 0.2013 - acc: 0.9104 - val_loss: 1.0168 - val_acc: 0.7273\n",
            "Epoch 42/100\n",
            "7/7 [==============================] - 0s 57ms/step - loss: 0.2103 - acc: 0.9235 - val_loss: 1.1086 - val_acc: 0.7143\n",
            "Epoch 43/100\n",
            "7/7 [==============================] - 0s 57ms/step - loss: 0.2354 - acc: 0.9039 - val_loss: 1.1025 - val_acc: 0.6948\n",
            "Epoch 44/100\n",
            "7/7 [==============================] - 0s 52ms/step - loss: 0.2249 - acc: 0.8974 - val_loss: 1.2129 - val_acc: 0.7208\n",
            "Epoch 45/100\n",
            "7/7 [==============================] - 0s 53ms/step - loss: 0.2071 - acc: 0.9104 - val_loss: 1.0889 - val_acc: 0.7143\n",
            "Epoch 46/100\n",
            "7/7 [==============================] - 0s 59ms/step - loss: 0.1934 - acc: 0.9251 - val_loss: 1.0645 - val_acc: 0.7208\n",
            "Epoch 47/100\n",
            "7/7 [==============================] - 0s 50ms/step - loss: 0.2024 - acc: 0.9137 - val_loss: 1.0616 - val_acc: 0.7143\n",
            "Epoch 48/100\n",
            "7/7 [==============================] - 0s 57ms/step - loss: 0.1908 - acc: 0.9186 - val_loss: 1.1329 - val_acc: 0.7078\n",
            "Epoch 49/100\n",
            "7/7 [==============================] - 0s 53ms/step - loss: 0.1977 - acc: 0.9137 - val_loss: 1.0691 - val_acc: 0.7013\n",
            "Epoch 50/100\n",
            "7/7 [==============================] - 0s 52ms/step - loss: 0.1809 - acc: 0.9397 - val_loss: 1.0771 - val_acc: 0.7013\n",
            "Epoch 51/100\n",
            "7/7 [==============================] - 0s 55ms/step - loss: 0.1798 - acc: 0.9316 - val_loss: 1.1222 - val_acc: 0.6948\n",
            "Epoch 52/100\n",
            "7/7 [==============================] - 0s 51ms/step - loss: 0.1841 - acc: 0.9349 - val_loss: 1.1263 - val_acc: 0.7078\n",
            "Epoch 53/100\n",
            "7/7 [==============================] - 0s 59ms/step - loss: 0.1805 - acc: 0.9316 - val_loss: 1.1182 - val_acc: 0.7078\n",
            "Epoch 54/100\n",
            "7/7 [==============================] - 0s 49ms/step - loss: 0.1845 - acc: 0.9300 - val_loss: 1.1342 - val_acc: 0.7143\n",
            "Epoch 55/100\n",
            "7/7 [==============================] - 0s 51ms/step - loss: 0.1895 - acc: 0.9332 - val_loss: 1.1488 - val_acc: 0.7208\n",
            "Epoch 56/100\n",
            "7/7 [==============================] - 0s 60ms/step - loss: 0.1860 - acc: 0.9251 - val_loss: 1.3450 - val_acc: 0.6948\n",
            "Epoch 57/100\n",
            "7/7 [==============================] - 0s 52ms/step - loss: 0.2242 - acc: 0.9023 - val_loss: 1.0506 - val_acc: 0.6948\n",
            "Epoch 58/100\n",
            "7/7 [==============================] - 0s 51ms/step - loss: 0.2250 - acc: 0.9202 - val_loss: 1.0720 - val_acc: 0.6883\n",
            "Epoch 59/100\n",
            "7/7 [==============================] - 0s 58ms/step - loss: 0.2588 - acc: 0.9039 - val_loss: 1.2945 - val_acc: 0.6948\n",
            "Epoch 60/100\n",
            "7/7 [==============================] - 0s 55ms/step - loss: 0.2949 - acc: 0.8664 - val_loss: 1.1005 - val_acc: 0.7078\n",
            "Epoch 61/100\n",
            "7/7 [==============================] - 0s 53ms/step - loss: 0.2606 - acc: 0.8844 - val_loss: 1.0409 - val_acc: 0.6883\n",
            "Epoch 62/100\n",
            "7/7 [==============================] - 0s 56ms/step - loss: 0.2220 - acc: 0.8958 - val_loss: 1.0250 - val_acc: 0.7403\n",
            "Epoch 63/100\n",
            "7/7 [==============================] - 0s 52ms/step - loss: 0.2306 - acc: 0.9007 - val_loss: 1.2289 - val_acc: 0.7078\n",
            "Epoch 64/100\n",
            "7/7 [==============================] - 0s 53ms/step - loss: 0.2317 - acc: 0.8990 - val_loss: 1.2317 - val_acc: 0.6948\n",
            "Epoch 65/100\n",
            "7/7 [==============================] - 0s 54ms/step - loss: 0.2214 - acc: 0.9055 - val_loss: 1.0516 - val_acc: 0.7273\n",
            "Epoch 66/100\n",
            "7/7 [==============================] - 0s 55ms/step - loss: 0.2124 - acc: 0.9137 - val_loss: 1.0672 - val_acc: 0.7143\n",
            "Epoch 67/100\n",
            "7/7 [==============================] - 0s 51ms/step - loss: 0.1973 - acc: 0.9283 - val_loss: 1.1247 - val_acc: 0.6948\n",
            "Epoch 68/100\n",
            "7/7 [==============================] - 0s 55ms/step - loss: 0.2109 - acc: 0.9186 - val_loss: 1.2809 - val_acc: 0.6753\n",
            "Epoch 69/100\n",
            "7/7 [==============================] - 0s 50ms/step - loss: 0.2195 - acc: 0.9088 - val_loss: 1.0967 - val_acc: 0.7143\n",
            "Epoch 70/100\n",
            "7/7 [==============================] - 0s 57ms/step - loss: 0.1989 - acc: 0.9153 - val_loss: 1.1505 - val_acc: 0.6818\n",
            "Epoch 71/100\n",
            "7/7 [==============================] - 0s 52ms/step - loss: 0.1858 - acc: 0.9316 - val_loss: 1.2161 - val_acc: 0.7013\n",
            "Epoch 72/100\n",
            "7/7 [==============================] - 0s 52ms/step - loss: 0.1846 - acc: 0.9283 - val_loss: 1.1264 - val_acc: 0.6948\n",
            "Epoch 73/100\n",
            "7/7 [==============================] - 0s 57ms/step - loss: 0.1757 - acc: 0.9381 - val_loss: 1.2052 - val_acc: 0.6818\n",
            "Epoch 74/100\n",
            "7/7 [==============================] - 0s 54ms/step - loss: 0.1923 - acc: 0.9169 - val_loss: 1.3147 - val_acc: 0.6948\n",
            "Epoch 75/100\n",
            "7/7 [==============================] - 0s 55ms/step - loss: 0.3380 - acc: 0.8893 - val_loss: 1.5016 - val_acc: 0.6558\n",
            "Epoch 76/100\n",
            "7/7 [==============================] - 0s 63ms/step - loss: 0.2970 - acc: 0.8941 - val_loss: 1.1752 - val_acc: 0.7013\n",
            "Epoch 77/100\n",
            "7/7 [==============================] - 0s 50ms/step - loss: 0.2289 - acc: 0.9007 - val_loss: 1.0893 - val_acc: 0.6948\n",
            "Epoch 78/100\n",
            "7/7 [==============================] - 0s 61ms/step - loss: 0.1967 - acc: 0.9137 - val_loss: 1.0461 - val_acc: 0.7013\n",
            "Epoch 79/100\n",
            "7/7 [==============================] - 0s 61ms/step - loss: 0.1878 - acc: 0.9283 - val_loss: 1.1218 - val_acc: 0.7078\n",
            "Epoch 80/100\n",
            "7/7 [==============================] - 0s 50ms/step - loss: 0.1804 - acc: 0.9316 - val_loss: 1.1277 - val_acc: 0.6948\n",
            "Epoch 81/100\n",
            "7/7 [==============================] - 0s 59ms/step - loss: 0.1893 - acc: 0.9267 - val_loss: 1.1234 - val_acc: 0.6948\n",
            "Epoch 82/100\n",
            "7/7 [==============================] - 0s 51ms/step - loss: 0.1985 - acc: 0.9202 - val_loss: 1.1856 - val_acc: 0.7078\n",
            "Epoch 83/100\n",
            "7/7 [==============================] - 0s 60ms/step - loss: 0.2004 - acc: 0.9169 - val_loss: 1.1744 - val_acc: 0.6688\n",
            "Epoch 84/100\n",
            "7/7 [==============================] - 0s 61ms/step - loss: 0.1966 - acc: 0.9137 - val_loss: 1.3059 - val_acc: 0.7078\n",
            "Epoch 85/100\n",
            "7/7 [==============================] - 0s 52ms/step - loss: 0.3544 - acc: 0.8827 - val_loss: 1.3647 - val_acc: 0.6883\n",
            "Epoch 86/100\n",
            "7/7 [==============================] - 0s 55ms/step - loss: 0.2636 - acc: 0.8876 - val_loss: 1.1126 - val_acc: 0.7208\n",
            "Epoch 87/100\n",
            "7/7 [==============================] - 0s 60ms/step - loss: 0.2381 - acc: 0.8909 - val_loss: 1.0803 - val_acc: 0.7078\n",
            "Epoch 88/100\n",
            "7/7 [==============================] - 0s 54ms/step - loss: 0.2047 - acc: 0.9153 - val_loss: 1.2094 - val_acc: 0.6883\n",
            "Epoch 89/100\n",
            "7/7 [==============================] - 0s 52ms/step - loss: 0.2085 - acc: 0.9169 - val_loss: 1.0949 - val_acc: 0.7078\n",
            "Epoch 90/100\n",
            "7/7 [==============================] - 0s 50ms/step - loss: 0.2121 - acc: 0.9039 - val_loss: 1.1639 - val_acc: 0.6818\n",
            "Epoch 91/100\n",
            "7/7 [==============================] - 0s 53ms/step - loss: 0.2181 - acc: 0.9104 - val_loss: 1.1385 - val_acc: 0.7143\n",
            "Epoch 92/100\n",
            "7/7 [==============================] - 0s 62ms/step - loss: 0.1982 - acc: 0.9039 - val_loss: 1.1626 - val_acc: 0.7013\n",
            "Epoch 93/100\n",
            "7/7 [==============================] - 0s 52ms/step - loss: 0.2168 - acc: 0.9072 - val_loss: 1.1919 - val_acc: 0.6883\n",
            "Epoch 94/100\n",
            "7/7 [==============================] - 0s 50ms/step - loss: 0.2284 - acc: 0.8909 - val_loss: 1.1780 - val_acc: 0.6948\n",
            "Epoch 95/100\n",
            "7/7 [==============================] - 0s 58ms/step - loss: 0.2031 - acc: 0.9137 - val_loss: 1.2014 - val_acc: 0.7143\n",
            "Epoch 96/100\n",
            "7/7 [==============================] - 0s 54ms/step - loss: 0.2418 - acc: 0.9023 - val_loss: 1.3630 - val_acc: 0.6623\n",
            "Epoch 97/100\n",
            "7/7 [==============================] - 0s 50ms/step - loss: 0.2092 - acc: 0.9104 - val_loss: 1.2071 - val_acc: 0.6818\n",
            "Epoch 98/100\n",
            "7/7 [==============================] - 0s 56ms/step - loss: 0.1967 - acc: 0.9088 - val_loss: 1.1097 - val_acc: 0.7078\n",
            "Epoch 99/100\n",
            "7/7 [==============================] - 0s 51ms/step - loss: 0.1916 - acc: 0.9251 - val_loss: 1.1420 - val_acc: 0.7078\n",
            "Epoch 100/100\n",
            "7/7 [==============================] - 0s 54ms/step - loss: 0.1828 - acc: 0.9218 - val_loss: 1.1834 - val_acc: 0.6948\n"
          ]
        }
      ]
    },
    {
      "cell_type": "code",
      "source": [
        "import matplotlib.pyplot as plt\n",
        "def plot_history(history):\n",
        "    plt.plot(history.history['loss'])\n",
        "    plt.plot(history.history['val_loss'])\n",
        "    plt.title('Train loss vs Validationn loss')\n",
        "    plt.ylabel('loss')\n",
        "    plt.xlabel('epoch')\n",
        "    plt.legend([ 'train' , 'validation' ], loc= 'upper right')\n",
        "    plt.show()\n",
        "\n",
        "    plt.plot(history.history['acc'])\n",
        "    plt.plot(history.history['val_acc'])\n",
        "    plt.title('Train accuracy vs Validationn Accuracy')\n",
        "    plt.ylabel('accuracy')\n",
        "    plt.xlabel('epoch')\n",
        "    plt.legend([ 'train' , 'validation' ], loc= 'upper right')\n",
        "    plt.show()"
      ],
      "metadata": {
        "id": "fWVy4EZymhOt"
      },
      "execution_count": 61,
      "outputs": []
    },
    {
      "cell_type": "code",
      "source": [
        "plot_history(history)"
      ],
      "metadata": {
        "id": "v3ub2dT4nas-"
      },
      "execution_count": null,
      "outputs": []
    }
  ]
}